{
 "cells": [
  {
   "cell_type": "code",
   "execution_count": 1,
   "id": "df0ff9e4-33ab-4e68-8fa6-cc8512cc6ff2",
   "metadata": {},
   "outputs": [],
   "source": [
    "import pandas as pd\n",
    "import numpy as np\n",
    "import json\n",
    "import matplotlib.pyplot as plt\n",
    "import seaborn as sns\n",
    "from sklearn.preprocessing import LabelEncoder, MinMaxScaler\n",
    "from sklearn.impute import SimpleImputer\n",
    "from datetime import datetime\n",
    "import joblib"
   ]
  },
  {
   "cell_type": "code",
   "execution_count": null,
   "id": "f4c12724-04f5-465c-a84c-3b193902e218",
   "metadata": {},
   "outputs": [],
   "source": []
  },
  {
   "cell_type": "code",
   "execution_count": 2,
   "id": "78ee23bd-2dbd-403e-9b11-012bad080c18",
   "metadata": {},
   "outputs": [
    {
     "name": "stderr",
     "output_type": "stream",
     "text": [
      "/var/folders/m1/9hdj7gtx4bd0kcn53ywv69400000gn/T/ipykernel_4550/1466551156.py:1: DtypeWarning: Columns (10,11) have mixed types. Specify dtype option on import or set low_memory=False.\n",
      "  df = pd.read_csv('dataset/master/GUIDE_Test.csv')\n"
     ]
    }
   ],
   "source": [
    "df = pd.read_csv('dataset/master/GUIDE_Test.csv')"
   ]
  },
  {
   "cell_type": "code",
   "execution_count": null,
   "id": "539b276b-97bc-4dcc-8828-ebb2ce614244",
   "metadata": {},
   "outputs": [],
   "source": []
  },
  {
   "cell_type": "code",
   "execution_count": 3,
   "id": "9b02be6a-7ac5-4223-b310-1bef03546ced",
   "metadata": {},
   "outputs": [],
   "source": [
    "def change_dtype(df):\n",
    "    for col in df.columns:\n",
    "        col_type = df[col].dtypes\n",
    "        if col_type == 'int64':\n",
    "            df[col] = df[col].astype('int32')\n",
    "        elif col_type == 'float64':\n",
    "            df[col] = df[col].astype('float32')\n",
    "        elif col_type == 'object':\n",
    "            df[col] = df[col].astype('category')\n",
    "    return df"
   ]
  },
  {
   "cell_type": "code",
   "execution_count": 4,
   "id": "477b1677-366c-4111-96f7-41216c1dce83",
   "metadata": {},
   "outputs": [],
   "source": [
    "df = change_dtype(df)"
   ]
  },
  {
   "cell_type": "code",
   "execution_count": 5,
   "id": "c6169869-3182-4da9-b687-1dbba7521d03",
   "metadata": {},
   "outputs": [
    {
     "name": "stdout",
     "output_type": "stream",
     "text": [
      "<class 'pandas.core.frame.DataFrame'>\n",
      "RangeIndex: 4147992 entries, 0 to 4147991\n",
      "Data columns (total 46 columns):\n",
      " #   Column              Dtype   \n",
      "---  ------              -----   \n",
      " 0   Id                  int32   \n",
      " 1   OrgId               int32   \n",
      " 2   IncidentId          int32   \n",
      " 3   AlertId             int32   \n",
      " 4   Timestamp           category\n",
      " 5   DetectorId          int32   \n",
      " 6   AlertTitle          int32   \n",
      " 7   Category            category\n",
      " 8   MitreTechniques     category\n",
      " 9   IncidentGrade       category\n",
      " 10  ActionGrouped       category\n",
      " 11  ActionGranular      category\n",
      " 12  EntityType          category\n",
      " 13  EvidenceRole        category\n",
      " 14  DeviceId            int32   \n",
      " 15  Sha256              int32   \n",
      " 16  IpAddress           int32   \n",
      " 17  Url                 int32   \n",
      " 18  AccountSid          int32   \n",
      " 19  AccountUpn          int32   \n",
      " 20  AccountObjectId     int32   \n",
      " 21  AccountName         int32   \n",
      " 22  DeviceName          int32   \n",
      " 23  NetworkMessageId    int32   \n",
      " 24  EmailClusterId      float32 \n",
      " 25  RegistryKey         int32   \n",
      " 26  RegistryValueName   int32   \n",
      " 27  RegistryValueData   int32   \n",
      " 28  ApplicationId       int32   \n",
      " 29  ApplicationName     int32   \n",
      " 30  OAuthApplicationId  int32   \n",
      " 31  ThreatFamily        category\n",
      " 32  FileName            int32   \n",
      " 33  FolderPath          int32   \n",
      " 34  ResourceIdName      int32   \n",
      " 35  ResourceType        category\n",
      " 36  Roles               category\n",
      " 37  OSFamily            int32   \n",
      " 38  OSVersion           int32   \n",
      " 39  AntispamDirection   category\n",
      " 40  SuspicionLevel      category\n",
      " 41  LastVerdict         category\n",
      " 42  CountryCode         int32   \n",
      " 43  State               int32   \n",
      " 44  City                int32   \n",
      " 45  Usage               category\n",
      "dtypes: category(15), float32(1), int32(30)\n",
      "memory usage: 589.5 MB\n"
     ]
    }
   ],
   "source": [
    "df.info()"
   ]
  },
  {
   "cell_type": "code",
   "execution_count": null,
   "id": "6a98057f-4bd9-4eb1-bfcc-4e740e8c73ee",
   "metadata": {},
   "outputs": [],
   "source": []
  },
  {
   "cell_type": "code",
   "execution_count": 6,
   "id": "5d3c7751-7c41-4906-b7db-baa65ca0d0b2",
   "metadata": {},
   "outputs": [],
   "source": [
    "def remove_na(df):\n",
    "    missing_percent  = df.isna().sum() / len(df) *100\n",
    "    missing_percent = missing_percent[missing_percent > 0]\n",
    "    to_be_removed = missing_percent[missing_percent > 50].index.tolist()\n",
    "    df.drop(columns=to_be_removed , axis=1,inplace=True)\n",
    "    return df"
   ]
  },
  {
   "cell_type": "code",
   "execution_count": 7,
   "id": "10f553b2-b995-4ee9-abf1-f0a1f78d7567",
   "metadata": {},
   "outputs": [],
   "source": [
    "df = remove_na(df)"
   ]
  },
  {
   "cell_type": "code",
   "execution_count": 8,
   "id": "1c8e387d-6bca-46c0-94fd-ccd480c7d5ef",
   "metadata": {},
   "outputs": [],
   "source": [
    "def outliers(df, iqr_multiplier=1.5):\n",
    "    numeric_features = df.select_dtypes(include=['int32', 'int16', 'float32', 'int64', 'float64'])\n",
    "    for col in numeric_features.columns:\n",
    "        Q1 = numeric_features[col].quantile(0.25)\n",
    "        Q3 = numeric_features[col].quantile(0.75)\n",
    "        IQR = Q3 - Q1\n",
    "        lower_bound = Q1 - iqr_multiplier * IQR\n",
    "        upper_bound = Q3 + iqr_multiplier * IQR\n",
    "            \n",
    "        df = df[(df[col] >= lower_bound) & (df[col] <= upper_bound)]\n",
    "    return df\n",
    "\n",
    "df = outliers(df, iqr_multiplier=1.5)"
   ]
  },
  {
   "cell_type": "code",
   "execution_count": 9,
   "id": "a23e3ab4-2741-4126-8ddc-7b66d7d5f663",
   "metadata": {},
   "outputs": [],
   "source": [
    "df['Timestamp'] = pd.to_datetime(df['Timestamp'], errors='coerce')\n",
    "df['Year'] = df['Timestamp'].dt.year\n",
    "df['Month'] = df['Timestamp'].dt.month\n",
    "df['DayOfWeek'] = df['Timestamp'].dt.dayofweek\n",
    "df['Hour'] = df['Timestamp'].dt.hour\n",
    "df.drop(columns=['Timestamp','Usage'], inplace=True)"
   ]
  },
  {
   "cell_type": "code",
   "execution_count": 10,
   "id": "e60caf1c-a7e2-47d2-adc5-34650c529749",
   "metadata": {},
   "outputs": [],
   "source": [
    "id_columns = ['Id', 'OrgId', 'IncidentId', 'AlertId', 'DetectorId', 'DeviceId', 'Sha256', \n",
    "              'IpAddress', 'Url', 'AccountSid', 'AccountUpn', 'AccountObjectId', 'AccountName', \n",
    "              'DeviceName', 'NetworkMessageId',  'RegistryKey', 'RegistryValueName', \n",
    "              'RegistryValueData', 'ApplicationId', 'ApplicationName', 'OAuthApplicationId', \n",
    "              'FileName', 'FolderPath', 'ResourceIdName','OSFamily','OSVersion', 'City','CountryCode', 'State']\n",
    "\n",
    "numeric_features = df.select_dtypes(include=['int32', 'int16', 'float32', 'int64']).drop(columns=id_columns, errors='ignore')"
   ]
  },
  {
   "cell_type": "code",
   "execution_count": null,
   "id": "633c2e82-0bfc-403b-aa6b-ea154eb986de",
   "metadata": {},
   "outputs": [],
   "source": []
  },
  {
   "cell_type": "code",
   "execution_count": 11,
   "id": "c98e286b-4509-4656-9623-37673b67e922",
   "metadata": {},
   "outputs": [],
   "source": [
    "scaler = MinMaxScaler()\n",
    "df[numeric_features.columns] = scaler.fit_transform(numeric_features)"
   ]
  },
  {
   "cell_type": "code",
   "execution_count": 12,
   "id": "ad3638d7-d40d-40ec-b6b9-4cf77247a2c6",
   "metadata": {},
   "outputs": [],
   "source": [
    "label_encoder = LabelEncoder()\n",
    "categorical_columns = ['Category', 'IncidentGrade', 'EntityType', 'EvidenceRole']\n",
    "\n",
    "for col in categorical_columns:\n",
    "    if col in df.columns:\n",
    "        df[col] = label_encoder.fit_transform(df[col].astype(str))"
   ]
  },
  {
   "cell_type": "code",
   "execution_count": 13,
   "id": "6e2790fa-e34b-4d32-b193-b89474fe35bb",
   "metadata": {},
   "outputs": [],
   "source": [
    "df.drop_duplicates(inplace=True)"
   ]
  },
  {
   "cell_type": "code",
   "execution_count": null,
   "id": "86d67187-f616-42fb-b654-cbb9d2a9b25c",
   "metadata": {},
   "outputs": [],
   "source": []
  },
  {
   "cell_type": "code",
   "execution_count": 14,
   "id": "1d26b947-91ff-4173-a3fe-6626f01bceee",
   "metadata": {},
   "outputs": [],
   "source": [
    "df.to_csv('dataset/process/scalar_test.csv',index=False)"
   ]
  },
  {
   "cell_type": "code",
   "execution_count": null,
   "id": "38d25502-798f-40d7-94e1-2268a4c18083",
   "metadata": {},
   "outputs": [],
   "source": []
  },
  {
   "cell_type": "code",
   "execution_count": null,
   "id": "9c33490f-33f5-415b-a305-28ad5f9ba489",
   "metadata": {},
   "outputs": [],
   "source": []
  }
 ],
 "metadata": {
  "kernelspec": {
   "display_name": "Python 3 (ipykernel)",
   "language": "python",
   "name": "python3"
  },
  "language_info": {
   "codemirror_mode": {
    "name": "ipython",
    "version": 3
   },
   "file_extension": ".py",
   "mimetype": "text/x-python",
   "name": "python",
   "nbconvert_exporter": "python",
   "pygments_lexer": "ipython3",
   "version": "3.11.5"
  }
 },
 "nbformat": 4,
 "nbformat_minor": 5
}
