{
 "cells": [
  {
   "cell_type": "code",
   "execution_count": 1,
   "id": "440bcf73-3f55-4862-b5f0-fba707ded73e",
   "metadata": {},
   "outputs": [],
   "source": [
    "import joblib\n",
    "import pandas as pd\n",
    "from sklearn.preprocessing import LabelEncoder\n",
    "from sklearn.metrics import accuracy_score , classification_report"
   ]
  },
  {
   "cell_type": "code",
   "execution_count": null,
   "id": "1247a5c8-8d31-41a2-a821-c3ac4e8d147b",
   "metadata": {},
   "outputs": [],
   "source": []
  },
  {
   "cell_type": "code",
   "execution_count": 2,
   "id": "525bc626-4a31-4d31-b23d-36f37a2a6e11",
   "metadata": {},
   "outputs": [],
   "source": [
    "output_wrapper = {0: 'Benign Positive', 1:'False Positive',2:'True Positive'}"
   ]
  },
  {
   "cell_type": "code",
   "execution_count": 3,
   "id": "cc2faf39-facb-4257-9a4d-2b5a5506b04a",
   "metadata": {},
   "outputs": [],
   "source": [
    "model = joblib.load('model.pkl')"
   ]
  },
  {
   "cell_type": "code",
   "execution_count": 4,
   "id": "e11ce7f3-25a8-4b2f-b38c-36291e4d6678",
   "metadata": {},
   "outputs": [],
   "source": [
    "df = pd.read_csv(r'dataset/process/scalar_test.csv')"
   ]
  },
  {
   "cell_type": "code",
   "execution_count": null,
   "id": "703bf8b3-90df-41d3-b445-16482598d6a1",
   "metadata": {},
   "outputs": [],
   "source": []
  },
  {
   "cell_type": "code",
   "execution_count": 5,
   "id": "6078d2c2-f03a-4af4-9eb5-d30facde3660",
   "metadata": {},
   "outputs": [],
   "source": [
    "y = df['IncidentGrade']"
   ]
  },
  {
   "cell_type": "code",
   "execution_count": 6,
   "id": "1ba57ef8-8a93-4d19-ae87-cdef7cdf35e0",
   "metadata": {},
   "outputs": [],
   "source": [
    "df.drop(columns=['IncidentGrade'],axis=1,inplace=True)"
   ]
  },
  {
   "cell_type": "code",
   "execution_count": 7,
   "id": "d128547a-6950-4b7b-8313-c534be310107",
   "metadata": {},
   "outputs": [],
   "source": [
    "pre = model.predict(df)"
   ]
  },
  {
   "cell_type": "code",
   "execution_count": 8,
   "id": "0fb8b10d-6ae3-4952-ac75-474df509ac84",
   "metadata": {},
   "outputs": [
    {
     "data": {
      "text/plain": [
       "0.9585983886166334"
      ]
     },
     "execution_count": 8,
     "metadata": {},
     "output_type": "execute_result"
    }
   ],
   "source": [
    "accuracy_score(pre , y)"
   ]
  },
  {
   "cell_type": "code",
   "execution_count": 9,
   "id": "610bc5b6-3b51-4419-9eec-760a0268a039",
   "metadata": {},
   "outputs": [
    {
     "name": "stdout",
     "output_type": "stream",
     "text": [
      "              precision    recall  f1-score   support\n",
      "\n",
      "           0       0.94      0.73      0.82     31204\n",
      "           1       0.82      0.76      0.79     22885\n",
      "           2       0.97      1.00      0.98    295052\n",
      "\n",
      "    accuracy                           0.96    349141\n",
      "   macro avg       0.91      0.83      0.87    349141\n",
      "weighted avg       0.96      0.96      0.96    349141\n",
      "\n"
     ]
    }
   ],
   "source": [
    "print(classification_report(pre , y))"
   ]
  },
  {
   "cell_type": "code",
   "execution_count": null,
   "id": "24156be8-fa0b-42dc-aff4-a9db46af1de9",
   "metadata": {},
   "outputs": [],
   "source": []
  }
 ],
 "metadata": {
  "kernelspec": {
   "display_name": "Python 3 (ipykernel)",
   "language": "python",
   "name": "python3"
  },
  "language_info": {
   "codemirror_mode": {
    "name": "ipython",
    "version": 3
   },
   "file_extension": ".py",
   "mimetype": "text/x-python",
   "name": "python",
   "nbconvert_exporter": "python",
   "pygments_lexer": "ipython3",
   "version": "3.11.5"
  }
 },
 "nbformat": 4,
 "nbformat_minor": 5
}
